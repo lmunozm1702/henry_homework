{
 "cells": [
  {
   "cell_type": "markdown",
   "metadata": {},
   "source": [
    "# Práctica Clase 6"
   ]
  },
  {
   "cell_type": "markdown",
   "metadata": {},
   "source": [
    "1) Cargar el dataset \"Emisiones_CO2.csv\" provisto en la clase 2 en un Dataframe de Pandas, quitar los registros que contengan valores faltantes e implementar una nueva columna, que contenga el resultado de una función Hash aplicada sobre el campo \"Código de País\" y se denomine \"Clave_Hash\".<br>\n",
    "Consideraciones: Se puede utilizar la función provista.\n"
   ]
  },
  {
   "cell_type": "code",
   "execution_count": 47,
   "metadata": {},
   "outputs": [],
   "source": [
    "def hash_function(key):\n",
    "    return sum(index * ord(character) for index, character in enumerate(repr(key), start=1))"
   ]
  },
  {
   "cell_type": "code",
   "execution_count": 48,
   "metadata": {},
   "outputs": [
    {
     "name": "stdout",
     "output_type": "stream",
     "text": [
      "1807\n",
      "1799\n"
     ]
    }
   ],
   "source": [
    "print(hash_function('pato'))\n",
    "print(hash_function('tapo'))"
   ]
  },
  {
   "cell_type": "code",
   "execution_count": 49,
   "metadata": {},
   "outputs": [],
   "source": [
    "import pandas as pd"
   ]
  },
  {
   "cell_type": "code",
   "execution_count": 50,
   "metadata": {},
   "outputs": [],
   "source": [
    "df = pd.read_csv('Emisiones_CO2.csv',sep='|',decimal=',', encoding='latin-1')"
   ]
  },
  {
   "cell_type": "code",
   "execution_count": 51,
   "metadata": {},
   "outputs": [
    {
     "name": "stdout",
     "output_type": "stream",
     "text": [
      "<class 'pandas.core.frame.DataFrame'>\n",
      "Index: 9029 entries, 26 to 11126\n",
      "Data columns (total 6 columns):\n",
      " #   Column                               Non-Null Count  Dtype  \n",
      "---  ------                               --------------  -----  \n",
      " 0   Código de país                       9029 non-null   object \n",
      " 1   Nombre del país                      9029 non-null   object \n",
      " 2   Región                               9029 non-null   object \n",
      " 3   Año                                  9029 non-null   int64  \n",
      " 4   CO2 (kt)                             9029 non-null   object \n",
      " 5   CO2 per cápita (toneladas métricas)  9029 non-null   float64\n",
      "dtypes: float64(1), int64(1), object(4)\n",
      "memory usage: 493.8+ KB\n",
      "None\n"
     ]
    }
   ],
   "source": [
    "df.dropna(inplace=True)\n",
    "print(df.info())"
   ]
  },
  {
   "cell_type": "markdown",
   "metadata": {},
   "source": [
    "2. A partir del Dataframe creado en el punto 1, construir uno nuevo, que contenga solo los valores distintos de la tupla \"Clave_Hash\", \"Código de País\" , \"Nombre de país\" y \"Región\". Quitando luego del dataframe original los campos \"Código de País\" , \"Nombre de país\" y \"Región\""
   ]
  },
  {
   "cell_type": "code",
   "execution_count": 52,
   "metadata": {},
   "outputs": [
    {
     "name": "stdout",
     "output_type": "stream",
     "text": [
      "   Código de país Nombre del país                   Región   Año  CO2 (kt)  \\\n",
      "26            ABW           Aruba  América Latina y Caribe  1986   179,683   \n",
      "27            ABW           Aruba  América Latina y Caribe  1987   447,374   \n",
      "28            ABW           Aruba  América Latina y Caribe  1988   612,389   \n",
      "29            ABW           Aruba  América Latina y Caribe  1989   649,059   \n",
      "30            ABW           Aruba  América Latina y Caribe  1990  1.840,83   \n",
      "\n",
      "    CO2 per cápita (toneladas métricas)   hash  \n",
      "26                             2.868319  50928  \n",
      "27                             7.234964  50928  \n",
      "28                            10.026508  50928  \n",
      "29                            10.634733  50928  \n",
      "30                            29.620165  50928  \n",
      "<class 'pandas.core.frame.DataFrame'>\n",
      "Index: 9029 entries, 26 to 11126\n",
      "Data columns (total 7 columns):\n",
      " #   Column                               Non-Null Count  Dtype  \n",
      "---  ------                               --------------  -----  \n",
      " 0   Código de país                       9029 non-null   object \n",
      " 1   Nombre del país                      9029 non-null   object \n",
      " 2   Región                               9029 non-null   object \n",
      " 3   Año                                  9029 non-null   int64  \n",
      " 4   CO2 (kt)                             9029 non-null   object \n",
      " 5   CO2 per cápita (toneladas métricas)  9029 non-null   float64\n",
      " 6   hash                                 9029 non-null   int64  \n",
      "dtypes: float64(1), int64(2), object(4)\n",
      "memory usage: 564.3+ KB\n"
     ]
    }
   ],
   "source": [
    "df['hash'] = df.apply(lambda row: hash_function(row['Código de país']+row['Nombre del país']+row['Región']), axis=1)\n",
    "print(df.head())\n",
    "df.info()"
   ]
  },
  {
   "cell_type": "code",
   "execution_count": 53,
   "metadata": {},
   "outputs": [
    {
     "name": "stdout",
     "output_type": "stream",
     "text": [
      "<class 'pandas.core.frame.DataFrame'>\n",
      "Index: 199 entries, 26 to 11079\n",
      "Data columns (total 7 columns):\n",
      " #   Column                               Non-Null Count  Dtype  \n",
      "---  ------                               --------------  -----  \n",
      " 0   Código de país                       199 non-null    object \n",
      " 1   Nombre del país                      199 non-null    object \n",
      " 2   Región                               199 non-null    object \n",
      " 3   Año                                  199 non-null    int64  \n",
      " 4   CO2 (kt)                             199 non-null    object \n",
      " 5   CO2 per cápita (toneladas métricas)  199 non-null    float64\n",
      " 6   hash                                 199 non-null    int64  \n",
      "dtypes: float64(1), int64(2), object(4)\n",
      "memory usage: 12.4+ KB\n",
      "None\n"
     ]
    }
   ],
   "source": [
    "df_pais = df.copy(['hash', 'Código de país', 'Nombre del país', 'Región'])\n",
    "df_pais.drop_duplicates(subset=['hash', 'Código de país', 'Nombre del país', 'Región'], inplace=True, keep='first')\n",
    "print(df_pais.info())"
   ]
  },
  {
   "cell_type": "code",
   "execution_count": 54,
   "metadata": {},
   "outputs": [
    {
     "data": {
      "text/html": [
       "<div>\n",
       "<style scoped>\n",
       "    .dataframe tbody tr th:only-of-type {\n",
       "        vertical-align: middle;\n",
       "    }\n",
       "\n",
       "    .dataframe tbody tr th {\n",
       "        vertical-align: top;\n",
       "    }\n",
       "\n",
       "    .dataframe thead th {\n",
       "        text-align: right;\n",
       "    }\n",
       "</style>\n",
       "<table border=\"1\" class=\"dataframe\">\n",
       "  <thead>\n",
       "    <tr style=\"text-align: right;\">\n",
       "      <th></th>\n",
       "      <th>Código de país</th>\n",
       "      <th>Nombre del país</th>\n",
       "      <th>Región</th>\n",
       "      <th>Año_x</th>\n",
       "      <th>CO2 (kt)_x</th>\n",
       "      <th>CO2 per cápita (toneladas métricas)_x</th>\n",
       "      <th>hash</th>\n",
       "      <th>Año_y</th>\n",
       "      <th>CO2 (kt)_y</th>\n",
       "      <th>CO2 per cápita (toneladas métricas)_y</th>\n",
       "    </tr>\n",
       "  </thead>\n",
       "  <tbody>\n",
       "    <tr>\n",
       "      <th>0</th>\n",
       "      <td>ABW</td>\n",
       "      <td>Aruba</td>\n",
       "      <td>América Latina y Caribe</td>\n",
       "      <td>1986</td>\n",
       "      <td>179,683</td>\n",
       "      <td>2.868319</td>\n",
       "      <td>50928</td>\n",
       "      <td>1986</td>\n",
       "      <td>179,683</td>\n",
       "      <td>2.868319</td>\n",
       "    </tr>\n",
       "    <tr>\n",
       "      <th>1</th>\n",
       "      <td>ABW</td>\n",
       "      <td>Aruba</td>\n",
       "      <td>América Latina y Caribe</td>\n",
       "      <td>1986</td>\n",
       "      <td>179,683</td>\n",
       "      <td>2.868319</td>\n",
       "      <td>50928</td>\n",
       "      <td>1987</td>\n",
       "      <td>447,374</td>\n",
       "      <td>7.234964</td>\n",
       "    </tr>\n",
       "    <tr>\n",
       "      <th>2</th>\n",
       "      <td>ABW</td>\n",
       "      <td>Aruba</td>\n",
       "      <td>América Latina y Caribe</td>\n",
       "      <td>1986</td>\n",
       "      <td>179,683</td>\n",
       "      <td>2.868319</td>\n",
       "      <td>50928</td>\n",
       "      <td>1988</td>\n",
       "      <td>612,389</td>\n",
       "      <td>10.026508</td>\n",
       "    </tr>\n",
       "    <tr>\n",
       "      <th>3</th>\n",
       "      <td>ABW</td>\n",
       "      <td>Aruba</td>\n",
       "      <td>América Latina y Caribe</td>\n",
       "      <td>1986</td>\n",
       "      <td>179,683</td>\n",
       "      <td>2.868319</td>\n",
       "      <td>50928</td>\n",
       "      <td>1989</td>\n",
       "      <td>649,059</td>\n",
       "      <td>10.634733</td>\n",
       "    </tr>\n",
       "    <tr>\n",
       "      <th>4</th>\n",
       "      <td>ABW</td>\n",
       "      <td>Aruba</td>\n",
       "      <td>América Latina y Caribe</td>\n",
       "      <td>1986</td>\n",
       "      <td>179,683</td>\n",
       "      <td>2.868319</td>\n",
       "      <td>50928</td>\n",
       "      <td>1990</td>\n",
       "      <td>1.840,83</td>\n",
       "      <td>29.620165</td>\n",
       "    </tr>\n",
       "    <tr>\n",
       "      <th>...</th>\n",
       "      <td>...</td>\n",
       "      <td>...</td>\n",
       "      <td>...</td>\n",
       "      <td>...</td>\n",
       "      <td>...</td>\n",
       "      <td>...</td>\n",
       "      <td>...</td>\n",
       "      <td>...</td>\n",
       "      <td>...</td>\n",
       "      <td>...</td>\n",
       "    </tr>\n",
       "    <tr>\n",
       "      <th>9051</th>\n",
       "      <td>ZWE</td>\n",
       "      <td>Zimbabue</td>\n",
       "      <td>África subsahariana</td>\n",
       "      <td>1964</td>\n",
       "      <td>4.473,74</td>\n",
       "      <td>1.045374</td>\n",
       "      <td>52493</td>\n",
       "      <td>2007</td>\n",
       "      <td>9.732,22</td>\n",
       "      <td>0.731867</td>\n",
       "    </tr>\n",
       "    <tr>\n",
       "      <th>9052</th>\n",
       "      <td>ZWE</td>\n",
       "      <td>Zimbabue</td>\n",
       "      <td>África subsahariana</td>\n",
       "      <td>1964</td>\n",
       "      <td>4.473,74</td>\n",
       "      <td>1.045374</td>\n",
       "      <td>52493</td>\n",
       "      <td>2008</td>\n",
       "      <td>7.682,37</td>\n",
       "      <td>0.569255</td>\n",
       "    </tr>\n",
       "    <tr>\n",
       "      <th>9053</th>\n",
       "      <td>ZWE</td>\n",
       "      <td>Zimbabue</td>\n",
       "      <td>África subsahariana</td>\n",
       "      <td>1964</td>\n",
       "      <td>4.473,74</td>\n",
       "      <td>1.045374</td>\n",
       "      <td>52493</td>\n",
       "      <td>2009</td>\n",
       "      <td>8.239,75</td>\n",
       "      <td>0.600521</td>\n",
       "    </tr>\n",
       "    <tr>\n",
       "      <th>9054</th>\n",
       "      <td>ZWE</td>\n",
       "      <td>Zimbabue</td>\n",
       "      <td>África subsahariana</td>\n",
       "      <td>1964</td>\n",
       "      <td>4.473,74</td>\n",
       "      <td>1.045374</td>\n",
       "      <td>52493</td>\n",
       "      <td>2010</td>\n",
       "      <td>9.028,15</td>\n",
       "      <td>0.646073</td>\n",
       "    </tr>\n",
       "    <tr>\n",
       "      <th>9055</th>\n",
       "      <td>ZWE</td>\n",
       "      <td>Zimbabue</td>\n",
       "      <td>África subsahariana</td>\n",
       "      <td>1964</td>\n",
       "      <td>4.473,74</td>\n",
       "      <td>1.045374</td>\n",
       "      <td>52493</td>\n",
       "      <td>2011</td>\n",
       "      <td>9.860,56</td>\n",
       "      <td>0.691698</td>\n",
       "    </tr>\n",
       "  </tbody>\n",
       "</table>\n",
       "<p>9056 rows × 10 columns</p>\n",
       "</div>"
      ],
      "text/plain": [
       "     Código de país Nombre del país                   Región  Año_x  \\\n",
       "0               ABW           Aruba  América Latina y Caribe   1986   \n",
       "1               ABW           Aruba  América Latina y Caribe   1986   \n",
       "2               ABW           Aruba  América Latina y Caribe   1986   \n",
       "3               ABW           Aruba  América Latina y Caribe   1986   \n",
       "4               ABW           Aruba  América Latina y Caribe   1986   \n",
       "...             ...             ...                      ...    ...   \n",
       "9051            ZWE        Zimbabue      África subsahariana   1964   \n",
       "9052            ZWE        Zimbabue      África subsahariana   1964   \n",
       "9053            ZWE        Zimbabue      África subsahariana   1964   \n",
       "9054            ZWE        Zimbabue      África subsahariana   1964   \n",
       "9055            ZWE        Zimbabue      África subsahariana   1964   \n",
       "\n",
       "     CO2 (kt)_x  CO2 per cápita (toneladas métricas)_x   hash  Año_y  \\\n",
       "0       179,683                               2.868319  50928   1986   \n",
       "1       179,683                               2.868319  50928   1987   \n",
       "2       179,683                               2.868319  50928   1988   \n",
       "3       179,683                               2.868319  50928   1989   \n",
       "4       179,683                               2.868319  50928   1990   \n",
       "...         ...                                    ...    ...    ...   \n",
       "9051   4.473,74                               1.045374  52493   2007   \n",
       "9052   4.473,74                               1.045374  52493   2008   \n",
       "9053   4.473,74                               1.045374  52493   2009   \n",
       "9054   4.473,74                               1.045374  52493   2010   \n",
       "9055   4.473,74                               1.045374  52493   2011   \n",
       "\n",
       "     CO2 (kt)_y  CO2 per cápita (toneladas métricas)_y  \n",
       "0       179,683                               2.868319  \n",
       "1       447,374                               7.234964  \n",
       "2       612,389                              10.026508  \n",
       "3       649,059                              10.634733  \n",
       "4      1.840,83                              29.620165  \n",
       "...         ...                                    ...  \n",
       "9051   9.732,22                               0.731867  \n",
       "9052   7.682,37                               0.569255  \n",
       "9053   8.239,75                               0.600521  \n",
       "9054   9.028,15                               0.646073  \n",
       "9055   9.860,56                               0.691698  \n",
       "\n",
       "[9056 rows x 10 columns]"
      ]
     },
     "execution_count": 54,
     "metadata": {},
     "output_type": "execute_result"
    }
   ],
   "source": [
    "df.drop(columns=['Código de país', 'Nombre del país', 'Región'], inplace=True)\n",
    "df_pais.merge(df, on='hash')"
   ]
  },
  {
   "cell_type": "code",
   "execution_count": 55,
   "metadata": {},
   "outputs": [],
   "source": [
    "df.to_csv('output.csv')"
   ]
  }
 ],
 "metadata": {
  "kernelspec": {
   "display_name": "Python 3.11.3 64-bit",
   "language": "python",
   "name": "python3"
  },
  "language_info": {
   "codemirror_mode": {
    "name": "ipython",
    "version": 3
   },
   "file_extension": ".py",
   "mimetype": "text/x-python",
   "name": "python",
   "nbconvert_exporter": "python",
   "pygments_lexer": "ipython3",
   "version": "3.10.12"
  },
  "vscode": {
   "interpreter": {
    "hash": "52634da84371cba311ea128a5ea7cdc41ff074b781779e754b270ff9f8153cee"
   }
  }
 },
 "nbformat": 4,
 "nbformat_minor": 4
}
